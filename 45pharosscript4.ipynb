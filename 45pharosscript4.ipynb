{
 "cells": [
  {
   "cell_type": "code",
   "execution_count": 1,
   "metadata": {},
   "outputs": [],
   "source": [
    "from requests_html import HTMLSession\n",
    "import urllib.request, urllib.error, urllib.parse\n",
    "import webbrowser\n",
    "from bs4 import BeautifulSoup\n",
    "import pyautogui\n",
    "import time\n",
    "from selenium import webdriver\n",
    "from selenium.webdriver.common.by import By\n",
    "from selenium.webdriver.support.expected_conditions import visibility_of_element_located\n",
    "from selenium.webdriver.support.ui import WebDriverWait\n",
    "import re\n",
    "import enchant\n",
    "import shutil\n",
    "import pandas as pd\n",
    "from statistics import mean \n",
    "import os"
   ]
  },
  {
   "cell_type": "code",
   "execution_count": 2,
   "metadata": {},
   "outputs": [],
   "source": [
    "sentimentana=pd.read_csv(\"sentiment-words-DFE-785960.csv\")\n",
    "positivesentiment=sentimentana[['q1_identify_the_term_that_is_associated_with_the_most_amount_of_positive_sentiment_or_least_amount_of_negative_sentiment','q1_identify_the_term_that_is_associated_with_the_most_amount_of_positive_sentiment_or_least_amount_of_negative_sentiment:confidence']]\n",
    "negativesentiment=sentimentana[['q2_identify_the_term_that_is_associated_with_the_most_amount_of_negative_sentiment_or_least_amount_of_positive_sentiment','q2_identify_the_term_that_is_associated_with_the_most_amount_of_negative_sentiment_or_least_amount_of_positive_sentiment:confidence']]"
   ]
  },
  {
   "cell_type": "code",
   "execution_count": 3,
   "metadata": {},
   "outputs": [],
   "source": [
    "wordlist=[]\n",
    "words = set(x for x in open(\"words.txt\").readlines())\n",
    "for i in words:\n",
    "    strpi=i.strip()\n",
    "    if strpi.islower():\n",
    "        if strpi.isalnum():\n",
    "            if len(i)>1:\n",
    "                wordlist.append(strpi)"
   ]
  },
  {
   "cell_type": "code",
   "execution_count": 4,
   "metadata": {},
   "outputs": [
    {
     "name": "stdout",
     "output_type": "stream",
     "text": [
      "['Corona', 'Ebola', 'Rabies', 'HIV', 'monkeypox', 'meningitis', 'malaria', 'Lassa%20Fever', 'Tularaemia', 'Nipah', 'cholera', 'Borreliosis', 'Melioidosis', 'Legionellosis', 'smallpox', 'hantavirus', 'influenza', 'dengue', 'rotavirus', 'SARS', 'MERS', 'Acinetobacter%20bumannii', 'Pseudomonas%20aeruginosa', 'Enterobacteriaceae', 'Klebsiella%20pneumonia', 'Escherichia%20coli', 'Enterobacter%20spp', 'serratia%20spp', 'proteus%20spp', 'providencia%20spp', 'morganella%20spp', 'Enterococcus%20faecium', 'staphylococcus%20aureus', 'helicobacter%20pylori', 'campylobacter%20spp', 'salmonellae', 'neisseria%20gonorrhoeae', 'streptococcus%20pneumoniae', 'streptococcus%20aureus', 'haemophilus%20influenzae', 'shigella%20spp', 'tuberculosis', 'candida%20auris', 'clostridioides%20difficile', 'neisseria%20gonorrhoeae']\n"
     ]
    }
   ],
   "source": [
    "withpatho=[]\n",
    "with open(\"pathogenlist.txt\") as dis:\n",
    "    for line in dis:\n",
    "        if len(line)>1:\n",
    "            wordtrim=line.strip()\n",
    "            searchword=wordtrim.replace(\" \",\"%20\")\n",
    "            withpatho.append(searchword)\n",
    "print(withpatho)"
   ]
  },
  {
   "cell_type": "code",
   "execution_count": 5,
   "metadata": {},
   "outputs": [
    {
     "name": "stdout",
     "output_type": "stream",
     "text": [
      "['5XES', '5XER', '6BT9', '5BPV', '6GQN', '6GQA', '6GP7', '2GIB', '3CL4', '6GPZ', '1KE9', '1KE8', '1KE7', '1KE6', '1KE5', '2QHX', '3H4V', '3CL5', '4L9C', '4L9H', '1LVO', '4K92', '1OFC', '6MQ5', '6MQ7']\n",
      "['5T3T', '5FHC', '6EHM', '5KEN', '6HS4', '5VAP', '4Z9P', '6F6S', '6F6I', '5KEL', '5VAO', '6NUT', '6F6N', '5HJ3', '6PCI', '4YPI', '6EHL', '6S8J', '6S8I', '4QAZ', '4QB0', '1ES6', '6U54', '4ZTI', '4ZTA']\n"
     ]
    },
    {
     "ename": "KeyboardInterrupt",
     "evalue": "",
     "output_type": "error",
     "traceback": [
      "\u001b[0;31m---------------------------------------------------------------------------\u001b[0m",
      "\u001b[0;31mKeyboardInterrupt\u001b[0m                         Traceback (most recent call last)",
      "\u001b[0;32m<ipython-input-5-e7f78da09bf8>\u001b[0m in \u001b[0;36m<module>\u001b[0;34m\u001b[0m\n\u001b[1;32m     35\u001b[0m     \u001b[0mprint\u001b[0m\u001b[0;34m(\u001b[0m\u001b[0monlypdb\u001b[0m\u001b[0;34m)\u001b[0m\u001b[0;34m\u001b[0m\u001b[0m\n\u001b[1;32m     36\u001b[0m     \u001b[0;32mfor\u001b[0m \u001b[0mi\u001b[0m \u001b[0;32min\u001b[0m \u001b[0monlypdb\u001b[0m\u001b[0;34m:\u001b[0m\u001b[0;34m\u001b[0m\u001b[0m\n\u001b[0;32m---> 37\u001b[0;31m         \u001b[0mwebbrowser\u001b[0m\u001b[0;34m.\u001b[0m\u001b[0mget\u001b[0m\u001b[0;34m(\u001b[0m\u001b[0mchrome_path\u001b[0m\u001b[0;34m)\u001b[0m\u001b[0;34m.\u001b[0m\u001b[0mopen\u001b[0m\u001b[0;34m(\u001b[0m\u001b[0;34m'https://www.rcsb.org/fasta/entry/'\u001b[0m\u001b[0;34m+\u001b[0m\u001b[0mstr\u001b[0m\u001b[0;34m(\u001b[0m\u001b[0mi\u001b[0m\u001b[0;34m)\u001b[0m\u001b[0;34m)\u001b[0m\u001b[0;34m\u001b[0m\u001b[0m\n\u001b[0m\u001b[1;32m     38\u001b[0m         \u001b[0mtime\u001b[0m\u001b[0;34m.\u001b[0m\u001b[0msleep\u001b[0m\u001b[0;34m(\u001b[0m\u001b[0;36m2\u001b[0m\u001b[0;34m)\u001b[0m\u001b[0;34m\u001b[0m\u001b[0m\n\u001b[1;32m     39\u001b[0m         \u001b[0mshutil\u001b[0m\u001b[0;34m.\u001b[0m\u001b[0mmove\u001b[0m\u001b[0;34m(\u001b[0m\u001b[0mdlpath\u001b[0m\u001b[0;34m+\u001b[0m\u001b[0;34m\"rcsb_pdb_\"\u001b[0m\u001b[0;34m+\u001b[0m\u001b[0mstr\u001b[0m\u001b[0;34m(\u001b[0m\u001b[0mi\u001b[0m\u001b[0;34m)\u001b[0m\u001b[0;34m+\u001b[0m\u001b[0;34m\".fasta\"\u001b[0m\u001b[0;34m,\u001b[0m \u001b[0mpath\u001b[0m\u001b[0;34m+\u001b[0m\u001b[0;34m\"/rcsb_pdb_\"\u001b[0m\u001b[0;34m+\u001b[0m\u001b[0mstr\u001b[0m\u001b[0;34m(\u001b[0m\u001b[0mi\u001b[0m\u001b[0;34m)\u001b[0m\u001b[0;34m+\u001b[0m\u001b[0;34m\".fasta\"\u001b[0m\u001b[0;34m)\u001b[0m\u001b[0;34m\u001b[0m\u001b[0m\n",
      "\u001b[0;32m~/miniconda3/lib/python3.6/webbrowser.py\u001b[0m in \u001b[0;36mopen\u001b[0;34m(self, url, new, autoraise)\u001b[0m\n\u001b[1;32m    144\u001b[0m             \u001b[0;32melse\u001b[0m\u001b[0;34m:\u001b[0m\u001b[0;34m\u001b[0m\u001b[0m\n\u001b[1;32m    145\u001b[0m                 \u001b[0mp\u001b[0m \u001b[0;34m=\u001b[0m \u001b[0msubprocess\u001b[0m\u001b[0;34m.\u001b[0m\u001b[0mPopen\u001b[0m\u001b[0;34m(\u001b[0m\u001b[0mcmdline\u001b[0m\u001b[0;34m,\u001b[0m \u001b[0mclose_fds\u001b[0m\u001b[0;34m=\u001b[0m\u001b[0;32mTrue\u001b[0m\u001b[0;34m)\u001b[0m\u001b[0;34m\u001b[0m\u001b[0m\n\u001b[0;32m--> 146\u001b[0;31m             \u001b[0;32mreturn\u001b[0m \u001b[0;32mnot\u001b[0m \u001b[0mp\u001b[0m\u001b[0;34m.\u001b[0m\u001b[0mwait\u001b[0m\u001b[0;34m(\u001b[0m\u001b[0;34m)\u001b[0m\u001b[0;34m\u001b[0m\u001b[0m\n\u001b[0m\u001b[1;32m    147\u001b[0m         \u001b[0;32mexcept\u001b[0m \u001b[0mOSError\u001b[0m\u001b[0;34m:\u001b[0m\u001b[0;34m\u001b[0m\u001b[0m\n\u001b[1;32m    148\u001b[0m             \u001b[0;32mreturn\u001b[0m \u001b[0;32mFalse\u001b[0m\u001b[0;34m\u001b[0m\u001b[0m\n",
      "\u001b[0;32m~/miniconda3/lib/python3.6/subprocess.py\u001b[0m in \u001b[0;36mwait\u001b[0;34m(self, timeout, endtime)\u001b[0m\n\u001b[1;32m   1455\u001b[0m                         \u001b[0;32mif\u001b[0m \u001b[0mself\u001b[0m\u001b[0;34m.\u001b[0m\u001b[0mreturncode\u001b[0m \u001b[0;32mis\u001b[0m \u001b[0;32mnot\u001b[0m \u001b[0;32mNone\u001b[0m\u001b[0;34m:\u001b[0m\u001b[0;34m\u001b[0m\u001b[0m\n\u001b[1;32m   1456\u001b[0m                             \u001b[0;32mbreak\u001b[0m  \u001b[0;31m# Another thread waited.\u001b[0m\u001b[0;34m\u001b[0m\u001b[0m\n\u001b[0;32m-> 1457\u001b[0;31m                         \u001b[0;34m(\u001b[0m\u001b[0mpid\u001b[0m\u001b[0;34m,\u001b[0m \u001b[0msts\u001b[0m\u001b[0;34m)\u001b[0m \u001b[0;34m=\u001b[0m \u001b[0mself\u001b[0m\u001b[0;34m.\u001b[0m\u001b[0m_try_wait\u001b[0m\u001b[0;34m(\u001b[0m\u001b[0;36m0\u001b[0m\u001b[0;34m)\u001b[0m\u001b[0;34m\u001b[0m\u001b[0m\n\u001b[0m\u001b[1;32m   1458\u001b[0m                         \u001b[0;31m# Check the pid and loop as waitpid has been known to\u001b[0m\u001b[0;34m\u001b[0m\u001b[0;34m\u001b[0m\u001b[0m\n\u001b[1;32m   1459\u001b[0m                         \u001b[0;31m# return 0 even without WNOHANG in odd situations.\u001b[0m\u001b[0;34m\u001b[0m\u001b[0;34m\u001b[0m\u001b[0m\n",
      "\u001b[0;32m~/miniconda3/lib/python3.6/subprocess.py\u001b[0m in \u001b[0;36m_try_wait\u001b[0;34m(self, wait_flags)\u001b[0m\n\u001b[1;32m   1402\u001b[0m             \u001b[0;34m\"\"\"All callers to this function MUST hold self._waitpid_lock.\"\"\"\u001b[0m\u001b[0;34m\u001b[0m\u001b[0m\n\u001b[1;32m   1403\u001b[0m             \u001b[0;32mtry\u001b[0m\u001b[0;34m:\u001b[0m\u001b[0;34m\u001b[0m\u001b[0m\n\u001b[0;32m-> 1404\u001b[0;31m                 \u001b[0;34m(\u001b[0m\u001b[0mpid\u001b[0m\u001b[0;34m,\u001b[0m \u001b[0msts\u001b[0m\u001b[0;34m)\u001b[0m \u001b[0;34m=\u001b[0m \u001b[0mos\u001b[0m\u001b[0;34m.\u001b[0m\u001b[0mwaitpid\u001b[0m\u001b[0;34m(\u001b[0m\u001b[0mself\u001b[0m\u001b[0;34m.\u001b[0m\u001b[0mpid\u001b[0m\u001b[0;34m,\u001b[0m \u001b[0mwait_flags\u001b[0m\u001b[0;34m)\u001b[0m\u001b[0;34m\u001b[0m\u001b[0m\n\u001b[0m\u001b[1;32m   1405\u001b[0m             \u001b[0;32mexcept\u001b[0m \u001b[0mChildProcessError\u001b[0m\u001b[0;34m:\u001b[0m\u001b[0;34m\u001b[0m\u001b[0m\n\u001b[1;32m   1406\u001b[0m                 \u001b[0;31m# This happens if SIGCLD is set to be ignored or waiting\u001b[0m\u001b[0;34m\u001b[0m\u001b[0;34m\u001b[0m\u001b[0m\n",
      "\u001b[0;31mKeyboardInterrupt\u001b[0m: "
     ]
    }
   ],
   "source": [
    "for qpatho in withpatho:\n",
    "    pathogen=qpatho\n",
    "    path = os.path.join(os.getcwd(), pathogen) \n",
    "    os.mkdir(path) \n",
    "    url = 'https://www.rcsb.org/search?request=%7B%22query%22%3A%7B%22parameters%22%3A%7B%22value%22%3A%22'+pathogen+'%22%7D%2C%22type%22%3A%22terminal%22%2C%22service%22%3A%22text%22%2C%22node_id%22%3A0%7D%2C%22return_type%22%3A%22entry%22%2C%22request_options%22%3A%7B%22pager%22%3A%7B%22start%22%3A0%2C%22rows%22%3A100%7D%2C%22scoring_strategy%22%3A%22combined%22%2C%22sort%22%3A%5B%7B%22sort_by%22%3A%22score%22%2C%22direction%22%3A%22desc%22%7D%5D%7D%2C%22request_info%22%3A%7B%22src%22%3A%22ui%22%2C%22query_id%22%3A%224fd19d7ad36839f52b83a7f42c4a6437%22%7D%7D'\n",
    "    chrome_path = '/usr/bin/google-chrome %s'\n",
    "    webbrowser.get(chrome_path).open(url)\n",
    "    time.sleep(5)\n",
    "    pyautogui.hotkey('ctrl', 's')\n",
    "    time.sleep(1)\n",
    "    pyautogui.typewrite(pathogen+\"page\")\n",
    "    pyautogui.hotkey('enter')\n",
    "    time.sleep(8)\n",
    "    dlpath = '/home/a/Downloads/'\n",
    "    shutil.move(dlpath+'/'+pathogen+\"page.html\", path+'/'+pathogen+\"page.html\")\n",
    "    f= open(path+\"/\"+pathogen+\"page.html\", \"r\")\n",
    "    soup = BeautifulSoup(f, 'lxml')\n",
    "    pdblinks=soup.find_all(\"a\", href=True)\n",
    "    links=[]\n",
    "    for a in pdblinks:\n",
    "        links.append(a['href'])\n",
    "    onlystructure=[]\n",
    "    for l in links:\n",
    "        if 'structure' in l:\n",
    "            onlystructure.append(l)\n",
    "    def unique(list1): \n",
    "        unique_list = [] \n",
    "        for x in list1: \n",
    "            if x not in unique_list: \n",
    "                unique_list.append(x)\n",
    "        return unique_list\n",
    "    onlypdb=[]\n",
    "    for i in unique(onlystructure):\n",
    "        onlypdb.append(i[-4:])\n",
    "    print(onlypdb)\n",
    "    for i in onlypdb:\n",
    "        webbrowser.get(chrome_path).open('https://www.rcsb.org/fasta/entry/'+str(i))\n",
    "        time.sleep(2)\n",
    "        shutil.move(dlpath+\"rcsb_pdb_\"+str(i)+\".fasta\", path+\"/rcsb_pdb_\"+str(i)+\".fasta\")\n",
    "    for i in onlypdb:   \n",
    "        pdb=i\n",
    "        p= open(path+'/rcsb_pdb_'+pdb+\".fasta\", \"r\")\n",
    "        linecount=0\n",
    "        for line in p:\n",
    "            if \">\" not in line:\n",
    "                code=line.split('\\n')[0]\n",
    "        lowcode=(code.lower())\n",
    "        pdbcodewords=[]\n",
    "        for i in wordlist:\n",
    "            if i in lowcode:\n",
    "                pdbcodewords.append(i)\n",
    "        realwords=[]\n",
    "        d = enchant.Dict(\"en_US\")\n",
    "        for i in pdbcodewords:\n",
    "            if d.check(i):\n",
    "                realwords.append(i)\n",
    "        hitlist=[]\n",
    "        for i in realwords:\n",
    "            sentimentscorepos=positivesentiment[positivesentiment.columns[0]].eq(i)\n",
    "            trumatchindex=sentimentscorepos.index[sentimentscorepos==True].tolist()\n",
    "            if (len(trumatchindex)>0):\n",
    "                thescorespos=positivesentiment.iloc[trumatchindex, 1 ].tolist()\n",
    "                hitlist.append(\"+ \"+(i)+\" \"+str(mean(thescorespos)))\n",
    "            sentimentscoreneg=negativesentiment[negativesentiment.columns[0]].eq(i)\n",
    "            negmatchindex=sentimentscoreneg.index[sentimentscoreneg==True].tolist()\n",
    "            if (len(negmatchindex)>0):\n",
    "                thescoresneg=negativesentiment.iloc[negmatchindex, 1 ].tolist()\n",
    "                hitlist.append(\"- \"+(i)+\" \"+str(mean(thescoresneg)))\n",
    "        thescorefile=pdb+pathogen+\"wordscore.txt\"\n",
    "        with open(thescorefile, \"w+\") as f:\n",
    "            f.write(str(len(hitlist))+\"\\n\")\n",
    "            for i in hitlist:\n",
    "                f.write(i+\"\\n\")\n",
    "        f.close()\n",
    "        path = os.path.join(os.getcwd(), pathogen) \n",
    "        shutil.move(os.getcwd()+\"/\"+thescorefile, path+\"/\"+thescorefile)"
   ]
  }
 ],
 "metadata": {
  "kernelspec": {
   "display_name": "Python 3",
   "language": "python",
   "name": "python3"
  },
  "language_info": {
   "codemirror_mode": {
    "name": "ipython",
    "version": 3
   },
   "file_extension": ".py",
   "mimetype": "text/x-python",
   "name": "python",
   "nbconvert_exporter": "python",
   "pygments_lexer": "ipython3",
   "version": "3.6.4"
  }
 },
 "nbformat": 4,
 "nbformat_minor": 4
}
